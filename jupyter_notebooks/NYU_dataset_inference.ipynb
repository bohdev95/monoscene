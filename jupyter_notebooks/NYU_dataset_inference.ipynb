{
 "cells": [
  {
   "cell_type": "code",
   "execution_count": 49,
   "metadata": {},
   "outputs": [],
   "source": [
    "import pickle\n",
    "import os\n",
    "from omegaconf import DictConfig\n",
    "import numpy as np\n",
    "import hydra\n",
    "from mayavi import mlab\n",
    "\n",
    "\n",
    "def get_grid_coords(dims, resolution):\n",
    "    \"\"\"\n",
    "    :param dims: the dimensions of the grid [x, y, z] (i.e. [256, 256, 32])\n",
    "    :return coords_grid: is the center coords of voxels in the grid\n",
    "    \"\"\"\n",
    "\n",
    "    g_xx = np.arange(0, dims[0] + 1)\n",
    "    g_yy = np.arange(0, dims[1] + 1)\n",
    "\n",
    "    g_zz = np.arange(0, dims[2] + 1)\n",
    "\n",
    "    # Obtaining the grid with coords...\n",
    "    xx, yy, zz = np.meshgrid(g_xx[:-1], g_yy[:-1], g_zz[:-1])\n",
    "    coords_grid = np.array([xx.flatten(), yy.flatten(), zz.flatten()]).T\n",
    "    coords_grid = coords_grid.astype(np.float)\n",
    "\n",
    "    coords_grid = (coords_grid * resolution) + resolution / 2\n",
    "\n",
    "    temp = np.copy(coords_grid)\n",
    "    temp[:, 0] = coords_grid[:, 1]\n",
    "    temp[:, 1] = coords_grid[:, 0]\n",
    "    coords_grid = np.copy(temp)\n",
    "\n",
    "    return coords_grid\n",
    "\n",
    "\n",
    "def draw(\n",
    "    voxels,\n",
    "    cam_pose,\n",
    "    vox_origin,\n",
    "    voxel_size=0.08,\n",
    "    d=0.75,  # 0.75m - determine the size of the mesh representing the camera\n",
    "):\n",
    "    # Compute the coordinates of the mesh representing camera\n",
    "    y = d * 480 / (2 * 518.8579)\n",
    "    x = d * 640 / (2 * 518.8579)\n",
    "    tri_points = np.array(\n",
    "        [\n",
    "            [0, 0, 0],\n",
    "            [x, y, d],\n",
    "            [-x, y, d],\n",
    "            [-x, -y, d],\n",
    "            [x, -y, d],\n",
    "        ]\n",
    "    )\n",
    "    tri_points = np.hstack([tri_points, np.ones((5, 1))])\n",
    "\n",
    "    tri_points = (cam_pose @ tri_points.T).T\n",
    "    x = tri_points[:, 0] - vox_origin[0]\n",
    "    y = tri_points[:, 1] - vox_origin[1]\n",
    "    z = tri_points[:, 2] - vox_origin[2]\n",
    "    triangles = [\n",
    "        (0, 1, 2),\n",
    "        (0, 1, 4),\n",
    "        (0, 3, 4),\n",
    "        (0, 2, 3),\n",
    "    ]\n",
    "\n",
    "    # Compute the voxels coordinates\n",
    "    grid_coords = get_grid_coords(\n",
    "        [voxels.shape[0], voxels.shape[2], voxels.shape[1]], voxel_size\n",
    "    )\n",
    "\n",
    "    # Attach the predicted class to every voxel\n",
    "    grid_coords = np.vstack(\n",
    "        (grid_coords.T, np.moveaxis(voxels, [0, 1, 2], [0, 2, 1]).reshape(-1))\n",
    "    ).T\n",
    "\n",
    "    # Remove empty and unknown voxels\n",
    "    occupied_voxels = grid_coords[(grid_coords[:, 3] > 0) & (grid_coords[:, 3] < 255)]\n",
    "    figure = mlab.figure(size=(1600, 900), bgcolor=(1, 1, 1))\n",
    "\n",
    "    # Draw the camera\n",
    "    mlab.triangular_mesh(\n",
    "        x,\n",
    "        y,\n",
    "        z,\n",
    "        triangles,\n",
    "        representation=\"wireframe\",\n",
    "        color=(0, 0, 0),\n",
    "        line_width=5,\n",
    "    )\n",
    "\n",
    "    # Draw occupied voxels\n",
    "    plt_plot = mlab.points3d(\n",
    "        occupied_voxels[:, 0],\n",
    "        occupied_voxels[:, 1],\n",
    "        occupied_voxels[:, 2],\n",
    "        occupied_voxels[:, 3],\n",
    "        colormap=\"viridis\",\n",
    "        scale_factor=voxel_size - 0.1 * voxel_size,\n",
    "        mode=\"cube\",\n",
    "        opacity=1.0,\n",
    "        vmin=0,\n",
    "        vmax=12,\n",
    "    )\n",
    "\n",
    "    colors = np.array(\n",
    "        [\n",
    "            [22, 191, 206, 255],\n",
    "            [214, 38, 40, 255],\n",
    "            [43, 160, 43, 255],\n",
    "            [158, 216, 229, 255],\n",
    "            [114, 158, 206, 255],\n",
    "            [204, 204, 91, 255],\n",
    "            [255, 186, 119, 255],\n",
    "            [147, 102, 188, 255],\n",
    "            [30, 119, 181, 255],\n",
    "            [188, 188, 33, 255],\n",
    "            [255, 127, 12, 255],\n",
    "            [196, 175, 214, 255],\n",
    "            [153, 153, 153, 255],\n",
    "        ]\n",
    "    )\n",
    "\n",
    "    plt_plot.glyph.scale_mode = \"scale_by_vector\"\n",
    "\n",
    "    plt_plot.module_manager.scalar_lut_manager.lut.table = colors\n",
    "    print(\"ok\")\n",
    "    mlab.show()\n",
    "\n"
   ]
  },
  {
   "cell_type": "code",
   "execution_count": 50,
   "metadata": {},
   "outputs": [],
   "source": [
    "import yaml\n",
    "from types import SimpleNamespace\n",
    "\n",
    "with open(\"../monoscene/config/monoscene.yaml\", \"r\") as stream:\n",
    "    try:\n",
    "        config = yaml.safe_load(stream)\n",
    "        config = SimpleNamespace(**config)\n",
    "    except yaml.YAMLError as exc:\n",
    "        print(exc)"
   ]
  },
  {
   "cell_type": "code",
   "execution_count": 65,
   "metadata": {},
   "outputs": [
    {
     "name": "stderr",
     "output_type": "stream",
     "text": [
      "/home/sohaib/anaconda3/envs/monoscene/lib/python3.7/site-packages/ipykernel_launcher.py:23: DeprecationWarning: `np.float` is a deprecated alias for the builtin `float`. To silence this warning, use `float` by itself. Doing this will not modify any behavior and is safe. If you specifically wanted the numpy scalar type, use `np.float64` here.\n",
      "Deprecated in NumPy 1.20; for more details and guidance: https://numpy.org/devdocs/release/1.20.0-notes.html#deprecations\n"
     ]
    },
    {
     "name": "stdout",
     "output_type": "stream",
     "text": [
      "ok\n"
     ]
    }
   ],
   "source": [
    "\n",
    "\n",
    "def main():\n",
    "    scan = '/home/sohaib/Documents/upwork_projects/robins/monoscene/MonoScene/jupyter_notebooks/pred.pkl'\n",
    "#     scan = '/home/sohaib/Documents/upwork_projects/robins/monoscene/MonoScene/nyu/NYU_dataset/depthbin/NYUtest/NYU0001_0000.pkl'\n",
    "\n",
    "    with open(scan, \"rb\") as handle:\n",
    "        b = pickle.load(handle)\n",
    "\n",
    "    cam_pose = np.asarray([[ 9.6699458e-01,  4.2662762e-02,  2.5120059e-01,  0.0000000e+00],\n",
    "       [-2.5147417e-01,  1.0867463e-03,  9.6786356e-01,  0.0000000e+00],\n",
    "       [ 4.1018680e-02, -9.9908894e-01,  1.1779292e-02,  1.1794727e+00],\n",
    "       [ 0.0000000e+00,  0.0000000e+00,  0.0000000e+00,  1.0000000e+00]])\n",
    "#     cam_pose = b['cam_pose']\n",
    "    vox_origin = b[\"vox_origin\"]\n",
    "#     gt_scene = b[\"target\"]\n",
    "    pred_scene = b[\"y_pred\"]\n",
    "    scan = os.path.basename(scan)[:12]\n",
    "\n",
    "#     pred_scene[(gt_scene == 255)] = 255  # only draw scene inside the room\n",
    "\n",
    "    draw(\n",
    "        pred_scene,\n",
    "        cam_pose,\n",
    "        vox_origin,\n",
    "        voxel_size=0.08,\n",
    "        d=0.75,\n",
    "    )\n",
    "\n",
    "\n",
    "\n",
    "main()\n"
   ]
  },
  {
   "cell_type": "code",
   "execution_count": 39,
   "metadata": {},
   "outputs": [
    {
     "data": {
      "text/plain": [
       "array([[ 9.6699458e-01,  4.2662762e-02,  2.5120059e-01,  0.0000000e+00],\n",
       "       [-2.5147417e-01,  1.0867463e-03,  9.6786356e-01,  0.0000000e+00],\n",
       "       [ 4.1018680e-02, -9.9908894e-01,  1.1779292e-02,  1.1794727e+00],\n",
       "       [ 0.0000000e+00,  0.0000000e+00,  0.0000000e+00,  1.0000000e+00]],\n",
       "      dtype=float32)"
      ]
     },
     "execution_count": 39,
     "metadata": {},
     "output_type": "execute_result"
    }
   ],
   "source": [
    "scan = '/home/sohaib/Documents/upwork_projects/robins/monoscene/MonoScene/nyu/NYU_dataset/depthbin/NYUtest/NYU0001_0000.pkl'\n",
    "\n",
    "with open(scan, \"rb\") as handle:\n",
    "    b = pickle.load(handle)\n",
    "    \n",
    "b['y_pred'].shape\n",
    "b[\"cam_pose\"]"
   ]
  },
  {
   "cell_type": "code",
   "execution_count": 31,
   "metadata": {},
   "outputs": [
    {
     "data": {
      "text/plain": [
       "(60, 36, 60)"
      ]
     },
     "execution_count": 31,
     "metadata": {},
     "output_type": "execute_result"
    }
   ],
   "source": []
  },
  {
   "cell_type": "code",
   "execution_count": null,
   "metadata": {},
   "outputs": [],
   "source": []
  }
 ],
 "metadata": {
  "kernelspec": {
   "display_name": "monoscene",
   "language": "python",
   "name": "monoscene"
  },
  "language_info": {
   "codemirror_mode": {
    "name": "ipython",
    "version": 3
   },
   "file_extension": ".py",
   "mimetype": "text/x-python",
   "name": "python",
   "nbconvert_exporter": "python",
   "pygments_lexer": "ipython3",
   "version": "3.7.16"
  }
 },
 "nbformat": 4,
 "nbformat_minor": 5
}
